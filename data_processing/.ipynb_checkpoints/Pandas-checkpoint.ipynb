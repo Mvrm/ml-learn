{
 "cells": [
  {
   "cell_type": "markdown",
   "metadata": {
    "colab_type": "text",
    "id": "AWq0E5e9npkJ"
   },
   "source": [
    "## Pandas"
   ]
  },
  {
   "cell_type": "code",
   "execution_count": 6,
   "metadata": {
    "colab": {},
    "colab_type": "code",
    "id": "-IrlMbarnpkK"
   },
   "outputs": [],
   "source": [
    "import pandas as pd, numpy as np, time\n",
    "import random\n",
    "import names\n",
    "import warnings\n",
    "warnings.filterwarnings('ignore')"
   ]
  },
  {
   "cell_type": "code",
   "execution_count": 7,
   "metadata": {
    "colab": {},
    "colab_type": "code",
    "id": "z3mEfcocnpkN"
   },
   "outputs": [],
   "source": [
    "mock_data = []\n",
    "for x in range(10000):\n",
    "    person_id = x\n",
    "    first_name = names.get_first_name()\n",
    "    last_name = names.get_last_name()\n",
    "    phone_number = '+1-{}-{:04d}-{:04d}'.format(\n",
    "        random.randint(2, 9),\n",
    "        random.randint(1, 9999),\n",
    "        random.randint(1, 9999)\n",
    "    )\n",
    "    some_val_1 = person_id + 1\n",
    "    some_val_2 = first_name[::-1]  # reversed via slice\n",
    "    some_val_3 = last_name + first_name\n",
    "    # randomly leave last two attributes blank for some records\n",
    "    if random.randint(1, 5) == 1:\n",
    "        some_val_4 = np.NaN\n",
    "        some_val_5 = np.NaN\n",
    "    else:\n",
    "        some_val_4 = person_id * random.randint(1, 29)\n",
    "        some_val_5 = random.randint(-99, 9999999)\n",
    "    person_record = {\n",
    "        'person_id': person_id, 'first_name': first_name, 'last_name': last_name, \n",
    "        'phone_number': phone_number, 'some_val_1': some_val_1, 'some_val_2': some_val_2, \n",
    "        'some_val_3': some_val_3, 'some_val_4': some_val_4, 'some_val_5': some_val_5 \n",
    "    }\n",
    "    mock_data.append(person_record)"
   ]
  },
  {
   "cell_type": "code",
   "execution_count": 8,
   "metadata": {
    "colab": {},
    "colab_type": "code",
    "id": "TJIAOOXsnpkP"
   },
   "outputs": [],
   "source": [
    "df = pd.DataFrame.from_dict(mock_data)"
   ]
  },
  {
   "cell_type": "markdown",
   "metadata": {
    "colab_type": "text",
    "id": "7PNeaVoinpkS"
   },
   "source": [
    "### Pandas Profiling"
   ]
  },
  {
   "cell_type": "code",
   "execution_count": 10,
   "metadata": {
    "colab": {},
    "colab_type": "code",
    "id": "4xG5bJPAnpkV",
    "outputId": "092890fa-6520-4ac0-ecf1-5b4ee96ce649"
   },
   "outputs": [
    {
     "data": {
      "text/html": [
       "\n",
       "        <iframe\n",
       "            width=\"100%\"\n",
       "            height=\"800px\"\n",
       "            src=\"ipynb_tmp/profile_5232013063.html\"\n",
       "            frameborder=\"0\"\n",
       "            allowfullscreen\n",
       "        ></iframe>\n",
       "        "
      ],
      "text/plain": [
       "<IPython.lib.display.IFrame at 0x7f508dcae4a8>"
      ]
     },
     "metadata": {},
     "output_type": "display_data"
    },
    {
     "data": {
      "text/plain": []
     },
     "execution_count": 10,
     "metadata": {},
     "output_type": "execute_result"
    }
   ],
   "source": [
    "import pandas_profiling as pp\n",
    "pp.ProfileReport(df)"
   ]
  },
  {
   "cell_type": "markdown",
   "metadata": {
    "colab_type": "text",
    "id": "hBNgi_A1npkh"
   },
   "source": [
    "#### Multiple filter criteria"
   ]
  },
  {
   "cell_type": "code",
   "execution_count": 13,
   "metadata": {
    "colab": {},
    "colab_type": "code",
    "id": "Zy6A2Nn-npkh"
   },
   "outputs": [],
   "source": [
    "crti1 = df.some_val_4 > 5.0\n",
    "crti2 = df.some_val_5 > 99\n",
    "crti3 = df.last_name.str.slice(0,1) == \"A\""
   ]
  },
  {
   "cell_type": "code",
   "execution_count": 14,
   "metadata": {
    "colab": {},
    "colab_type": "code",
    "id": "OjjVbHCynpkk",
    "outputId": "ecd29f1d-fd40-4006-b97c-24a46295136d"
   },
   "outputs": [
    {
     "data": {
      "text/html": [
       "<div>\n",
       "<style scoped>\n",
       "    .dataframe tbody tr th:only-of-type {\n",
       "        vertical-align: middle;\n",
       "    }\n",
       "\n",
       "    .dataframe tbody tr th {\n",
       "        vertical-align: top;\n",
       "    }\n",
       "\n",
       "    .dataframe thead th {\n",
       "        text-align: right;\n",
       "    }\n",
       "</style>\n",
       "<table border=\"1\" class=\"dataframe\">\n",
       "  <thead>\n",
       "    <tr style=\"text-align: right;\">\n",
       "      <th></th>\n",
       "      <th>first_name</th>\n",
       "      <th>last_name</th>\n",
       "      <th>person_id</th>\n",
       "      <th>phone_number</th>\n",
       "      <th>some_val_1</th>\n",
       "      <th>some_val_2</th>\n",
       "      <th>some_val_3</th>\n",
       "      <th>some_val_4</th>\n",
       "      <th>some_val_5</th>\n",
       "    </tr>\n",
       "  </thead>\n",
       "  <tbody>\n",
       "    <tr>\n",
       "      <th>15</th>\n",
       "      <td>Hortense</td>\n",
       "      <td>Allard</td>\n",
       "      <td>15</td>\n",
       "      <td>+1-5-3426-2359</td>\n",
       "      <td>16</td>\n",
       "      <td>esnetroH</td>\n",
       "      <td>AllardHortense</td>\n",
       "      <td>330.0</td>\n",
       "      <td>4430471.0</td>\n",
       "    </tr>\n",
       "    <tr>\n",
       "      <th>28</th>\n",
       "      <td>Arturo</td>\n",
       "      <td>Anyan</td>\n",
       "      <td>28</td>\n",
       "      <td>+1-7-1646-3653</td>\n",
       "      <td>29</td>\n",
       "      <td>orutrA</td>\n",
       "      <td>AnyanArturo</td>\n",
       "      <td>532.0</td>\n",
       "      <td>6193686.0</td>\n",
       "    </tr>\n",
       "    <tr>\n",
       "      <th>125</th>\n",
       "      <td>Alfred</td>\n",
       "      <td>Aromin</td>\n",
       "      <td>125</td>\n",
       "      <td>+1-6-7455-5394</td>\n",
       "      <td>126</td>\n",
       "      <td>derflA</td>\n",
       "      <td>ArominAlfred</td>\n",
       "      <td>2625.0</td>\n",
       "      <td>7597053.0</td>\n",
       "    </tr>\n",
       "    <tr>\n",
       "      <th>174</th>\n",
       "      <td>Mike</td>\n",
       "      <td>Armijo</td>\n",
       "      <td>174</td>\n",
       "      <td>+1-2-4202-8530</td>\n",
       "      <td>175</td>\n",
       "      <td>ekiM</td>\n",
       "      <td>ArmijoMike</td>\n",
       "      <td>3132.0</td>\n",
       "      <td>1606305.0</td>\n",
       "    </tr>\n",
       "    <tr>\n",
       "      <th>226</th>\n",
       "      <td>Harold</td>\n",
       "      <td>Adkins</td>\n",
       "      <td>226</td>\n",
       "      <td>+1-3-6285-3527</td>\n",
       "      <td>227</td>\n",
       "      <td>dloraH</td>\n",
       "      <td>AdkinsHarold</td>\n",
       "      <td>5424.0</td>\n",
       "      <td>545176.0</td>\n",
       "    </tr>\n",
       "  </tbody>\n",
       "</table>\n",
       "</div>"
      ],
      "text/plain": [
       "    first_name last_name  person_id    phone_number  some_val_1 some_val_2  \\\n",
       "15    Hortense    Allard         15  +1-5-3426-2359          16   esnetroH   \n",
       "28      Arturo     Anyan         28  +1-7-1646-3653          29     orutrA   \n",
       "125     Alfred    Aromin        125  +1-6-7455-5394         126     derflA   \n",
       "174       Mike    Armijo        174  +1-2-4202-8530         175       ekiM   \n",
       "226     Harold    Adkins        226  +1-3-6285-3527         227     dloraH   \n",
       "\n",
       "         some_val_3  some_val_4  some_val_5  \n",
       "15   AllardHortense       330.0   4430471.0  \n",
       "28      AnyanArturo       532.0   6193686.0  \n",
       "125    ArominAlfred      2625.0   7597053.0  \n",
       "174      ArmijoMike      3132.0   1606305.0  \n",
       "226    AdkinsHarold      5424.0    545176.0  "
      ]
     },
     "execution_count": 14,
     "metadata": {},
     "output_type": "execute_result"
    }
   ],
   "source": [
    "df[crti1 & crti2 & crti3].head()"
   ]
  },
  {
   "cell_type": "markdown",
   "metadata": {
    "colab_type": "text",
    "id": "fLyNO2cnnpkm"
   },
   "source": [
    "#### difference between each row and previous row"
   ]
  },
  {
   "cell_type": "code",
   "execution_count": 15,
   "metadata": {
    "colab": {},
    "colab_type": "code",
    "id": "AiQP-dXJnpkm"
   },
   "outputs": [],
   "source": [
    "df['change'] = df.some_val_5.diff()"
   ]
  },
  {
   "cell_type": "markdown",
   "metadata": {
    "colab_type": "text",
    "id": "Sej_KDw2npks"
   },
   "source": [
    "#### groupby "
   ]
  },
  {
   "cell_type": "code",
   "execution_count": 17,
   "metadata": {
    "colab": {},
    "colab_type": "code",
    "id": "aAtiCBZvnpks",
    "outputId": "3bb3c716-66ee-45a4-f569-9157e642467a"
   },
   "outputs": [
    {
     "data": {
      "text/plain": [
       "first_name\n",
       "Aaron     -29597772.0\n",
       "Abby        1643325.0\n",
       "Abe        -1199110.0\n",
       "Abel              0.0\n",
       "Abigail           0.0\n",
       "Name: change, dtype: float64"
      ]
     },
     "execution_count": 17,
     "metadata": {},
     "output_type": "execute_result"
    }
   ],
   "source": [
    "df.groupby(\"first_name\")['change'].sum().head()"
   ]
  },
  {
   "cell_type": "code",
   "execution_count": 18,
   "metadata": {
    "colab": {},
    "colab_type": "code",
    "id": "AISEyLBsnpkv",
    "outputId": "16f67d48-cbc6-4f81-8071-2e6a9de75d06"
   },
   "outputs": [
    {
     "data": {
      "text/html": [
       "<div>\n",
       "<style scoped>\n",
       "    .dataframe tbody tr th:only-of-type {\n",
       "        vertical-align: middle;\n",
       "    }\n",
       "\n",
       "    .dataframe tbody tr th {\n",
       "        vertical-align: top;\n",
       "    }\n",
       "\n",
       "    .dataframe thead tr th {\n",
       "        text-align: left;\n",
       "    }\n",
       "\n",
       "    .dataframe thead tr:last-of-type th {\n",
       "        text-align: right;\n",
       "    }\n",
       "</style>\n",
       "<table border=\"1\" class=\"dataframe\">\n",
       "  <thead>\n",
       "    <tr>\n",
       "      <th></th>\n",
       "      <th colspan=\"2\" halign=\"left\">change</th>\n",
       "      <th>some_val_4</th>\n",
       "    </tr>\n",
       "    <tr>\n",
       "      <th></th>\n",
       "      <th>mean</th>\n",
       "      <th>max</th>\n",
       "      <th>mean</th>\n",
       "    </tr>\n",
       "    <tr>\n",
       "      <th>first_name</th>\n",
       "      <th></th>\n",
       "      <th></th>\n",
       "      <th></th>\n",
       "    </tr>\n",
       "  </thead>\n",
       "  <tbody>\n",
       "    <tr>\n",
       "      <th>Aaron</th>\n",
       "      <td>-2.276752e+06</td>\n",
       "      <td>4908450.0</td>\n",
       "      <td>83480.6875</td>\n",
       "    </tr>\n",
       "    <tr>\n",
       "      <th>Abby</th>\n",
       "      <td>1.643325e+06</td>\n",
       "      <td>1643325.0</td>\n",
       "      <td>11480.0000</td>\n",
       "    </tr>\n",
       "    <tr>\n",
       "      <th>Abe</th>\n",
       "      <td>-1.199110e+06</td>\n",
       "      <td>-1199110.0</td>\n",
       "      <td>65666.0000</td>\n",
       "    </tr>\n",
       "    <tr>\n",
       "      <th>Abel</th>\n",
       "      <td>NaN</td>\n",
       "      <td>NaN</td>\n",
       "      <td>NaN</td>\n",
       "    </tr>\n",
       "    <tr>\n",
       "      <th>Abigail</th>\n",
       "      <td>NaN</td>\n",
       "      <td>NaN</td>\n",
       "      <td>NaN</td>\n",
       "    </tr>\n",
       "  </tbody>\n",
       "</table>\n",
       "</div>"
      ],
      "text/plain": [
       "                  change             some_val_4\n",
       "                    mean        max        mean\n",
       "first_name                                     \n",
       "Aaron      -2.276752e+06  4908450.0  83480.6875\n",
       "Abby        1.643325e+06  1643325.0  11480.0000\n",
       "Abe        -1.199110e+06 -1199110.0  65666.0000\n",
       "Abel                 NaN        NaN         NaN\n",
       "Abigail              NaN        NaN         NaN"
      ]
     },
     "execution_count": 18,
     "metadata": {},
     "output_type": "execute_result"
    }
   ],
   "source": [
    "df.groupby(\"first_name\").agg({'change':['mean','max'],\n",
    "                              'some_val_4':'mean'\n",
    "                             }).head()"
   ]
  },
  {
   "cell_type": "code",
   "execution_count": 19,
   "metadata": {
    "colab": {},
    "colab_type": "code",
    "id": "9rm1pFeqnpkx",
    "outputId": "dac481f0-1abd-4e72-c0c4-e5fcf2d63768"
   },
   "outputs": [
    {
     "data": {
      "text/html": [
       "<div>\n",
       "<style scoped>\n",
       "    .dataframe tbody tr th:only-of-type {\n",
       "        vertical-align: middle;\n",
       "    }\n",
       "\n",
       "    .dataframe tbody tr th {\n",
       "        vertical-align: top;\n",
       "    }\n",
       "\n",
       "    .dataframe thead tr th {\n",
       "        text-align: left;\n",
       "    }\n",
       "\n",
       "    .dataframe thead tr:last-of-type th {\n",
       "        text-align: right;\n",
       "    }\n",
       "</style>\n",
       "<table border=\"1\" class=\"dataframe\">\n",
       "  <thead>\n",
       "    <tr>\n",
       "      <th></th>\n",
       "      <th colspan=\"2\" halign=\"left\">change</th>\n",
       "      <th>some_val_4</th>\n",
       "    </tr>\n",
       "    <tr>\n",
       "      <th></th>\n",
       "      <th>mean</th>\n",
       "      <th>max</th>\n",
       "      <th>max</th>\n",
       "    </tr>\n",
       "    <tr>\n",
       "      <th>last_name</th>\n",
       "      <th></th>\n",
       "      <th></th>\n",
       "      <th></th>\n",
       "    </tr>\n",
       "  </thead>\n",
       "  <tbody>\n",
       "    <tr>\n",
       "      <th>Abad</th>\n",
       "      <td>1376415.0</td>\n",
       "      <td>1376415.0</td>\n",
       "      <td>10154.0</td>\n",
       "    </tr>\n",
       "    <tr>\n",
       "      <th>Abe</th>\n",
       "      <td>7913334.0</td>\n",
       "      <td>7913334.0</td>\n",
       "      <td>10269.0</td>\n",
       "    </tr>\n",
       "    <tr>\n",
       "      <th>Abercrombie</th>\n",
       "      <td>NaN</td>\n",
       "      <td>NaN</td>\n",
       "      <td>227214.0</td>\n",
       "    </tr>\n",
       "    <tr>\n",
       "      <th>Abernathy</th>\n",
       "      <td>6205321.0</td>\n",
       "      <td>6205321.0</td>\n",
       "      <td>208300.0</td>\n",
       "    </tr>\n",
       "    <tr>\n",
       "      <th>Ables</th>\n",
       "      <td>-803040.0</td>\n",
       "      <td>-803040.0</td>\n",
       "      <td>80353.0</td>\n",
       "    </tr>\n",
       "  </tbody>\n",
       "</table>\n",
       "</div>"
      ],
      "text/plain": [
       "                change            some_val_4\n",
       "                  mean        max        max\n",
       "last_name                                   \n",
       "Abad         1376415.0  1376415.0    10154.0\n",
       "Abe          7913334.0  7913334.0    10269.0\n",
       "Abercrombie        NaN        NaN   227214.0\n",
       "Abernathy    6205321.0  6205321.0   208300.0\n",
       "Ables        -803040.0  -803040.0    80353.0"
      ]
     },
     "execution_count": 19,
     "metadata": {},
     "output_type": "execute_result"
    }
   ],
   "source": [
    "df.groupby(\"last_name\").agg({'change':['mean','max'],\n",
    "                              'some_val_4':['max']\n",
    "                             }).head()"
   ]
  },
  {
   "cell_type": "code",
   "execution_count": 20,
   "metadata": {
    "colab": {},
    "colab_type": "code",
    "id": "tVsFdLyxnpkz",
    "outputId": "0265b25b-3897-4fbe-d8cb-3403d8e26e5c"
   },
   "outputs": [
    {
     "data": {
      "text/plain": [
       "0    1\n",
       "1    6\n",
       "2    3\n",
       "3    1\n",
       "4    1\n",
       "Name: last_name, dtype: int64"
      ]
     },
     "execution_count": 20,
     "metadata": {},
     "output_type": "execute_result"
    }
   ],
   "source": [
    "df.groupby('last_name')['last_name'].transform('count').head()"
   ]
  },
  {
   "cell_type": "markdown",
   "metadata": {
    "colab_type": "text",
    "id": "IBeo2b0jnpk2"
   },
   "source": [
    "#### Concat"
   ]
  },
  {
   "cell_type": "code",
   "execution_count": 21,
   "metadata": {
    "colab": {},
    "colab_type": "code",
    "id": "8EfUAVSsnpk3",
    "outputId": "a16d79f5-9a8c-4172-9de7-d0c6fe10e060"
   },
   "outputs": [
    {
     "data": {
      "text/plain": [
       "0     Samuel,Lettieri\n",
       "1         Donnie,Dunn\n",
       "2    Patricia,Cameron\n",
       "3         Curtis,Sule\n",
       "4      Vickie,Antoine\n",
       "Name: first_name, dtype: object"
      ]
     },
     "execution_count": 21,
     "metadata": {},
     "output_type": "execute_result"
    }
   ],
   "source": [
    "df.first_name.str.cat(df.last_name, ',').head()"
   ]
  },
  {
   "cell_type": "markdown",
   "metadata": {
    "colab_type": "text",
    "id": "AKiOjoC-npk5"
   },
   "source": [
    "#### Rank"
   ]
  },
  {
   "cell_type": "code",
   "execution_count": 22,
   "metadata": {
    "colab": {},
    "colab_type": "code",
    "id": "LHRIvA8nnpk6"
   },
   "outputs": [],
   "source": [
    "df['score_rank'] = df['change'].rank(ascending=1)"
   ]
  },
  {
   "cell_type": "code",
   "execution_count": 23,
   "metadata": {
    "colab": {},
    "colab_type": "code",
    "id": "T0wDPfnRnpk8",
    "outputId": "b239426d-602a-44e0-cd56-dd384f6f3d8a"
   },
   "outputs": [
    {
     "data": {
      "text/html": [
       "<div>\n",
       "<style scoped>\n",
       "    .dataframe tbody tr th:only-of-type {\n",
       "        vertical-align: middle;\n",
       "    }\n",
       "\n",
       "    .dataframe tbody tr th {\n",
       "        vertical-align: top;\n",
       "    }\n",
       "\n",
       "    .dataframe thead th {\n",
       "        text-align: right;\n",
       "    }\n",
       "</style>\n",
       "<table border=\"1\" class=\"dataframe\">\n",
       "  <thead>\n",
       "    <tr style=\"text-align: right;\">\n",
       "      <th></th>\n",
       "      <th>first_name</th>\n",
       "      <th>last_name</th>\n",
       "      <th>person_id</th>\n",
       "      <th>phone_number</th>\n",
       "      <th>some_val_1</th>\n",
       "      <th>some_val_2</th>\n",
       "      <th>some_val_3</th>\n",
       "      <th>some_val_4</th>\n",
       "      <th>some_val_5</th>\n",
       "      <th>change</th>\n",
       "      <th>score_rank</th>\n",
       "    </tr>\n",
       "  </thead>\n",
       "  <tbody>\n",
       "    <tr>\n",
       "      <th>8514</th>\n",
       "      <td>Cody</td>\n",
       "      <td>Garrett</td>\n",
       "      <td>8514</td>\n",
       "      <td>+1-8-9735-4990</td>\n",
       "      <td>8515</td>\n",
       "      <td>ydoC</td>\n",
       "      <td>GarrettCody</td>\n",
       "      <td>161766.0</td>\n",
       "      <td>1474841.0</td>\n",
       "      <td>295.0</td>\n",
       "      <td>3120.0</td>\n",
       "    </tr>\n",
       "    <tr>\n",
       "      <th>3955</th>\n",
       "      <td>Mary</td>\n",
       "      <td>Walker</td>\n",
       "      <td>3955</td>\n",
       "      <td>+1-7-9029-0281</td>\n",
       "      <td>3956</td>\n",
       "      <td>yraM</td>\n",
       "      <td>WalkerMary</td>\n",
       "      <td>35595.0</td>\n",
       "      <td>1743371.0</td>\n",
       "      <td>911.0</td>\n",
       "      <td>3121.0</td>\n",
       "    </tr>\n",
       "    <tr>\n",
       "      <th>6040</th>\n",
       "      <td>Jason</td>\n",
       "      <td>Davis</td>\n",
       "      <td>6040</td>\n",
       "      <td>+1-9-0296-4471</td>\n",
       "      <td>6041</td>\n",
       "      <td>nosaJ</td>\n",
       "      <td>DavisJason</td>\n",
       "      <td>169120.0</td>\n",
       "      <td>8778295.0</td>\n",
       "      <td>1544.0</td>\n",
       "      <td>3122.0</td>\n",
       "    </tr>\n",
       "    <tr>\n",
       "      <th>7201</th>\n",
       "      <td>Dawn</td>\n",
       "      <td>Snipes</td>\n",
       "      <td>7201</td>\n",
       "      <td>+1-9-9706-1702</td>\n",
       "      <td>7202</td>\n",
       "      <td>nwaD</td>\n",
       "      <td>SnipesDawn</td>\n",
       "      <td>86412.0</td>\n",
       "      <td>9490901.0</td>\n",
       "      <td>1756.0</td>\n",
       "      <td>3123.0</td>\n",
       "    </tr>\n",
       "    <tr>\n",
       "      <th>9724</th>\n",
       "      <td>Robert</td>\n",
       "      <td>Depaul</td>\n",
       "      <td>9724</td>\n",
       "      <td>+1-7-6525-5854</td>\n",
       "      <td>9725</td>\n",
       "      <td>treboR</td>\n",
       "      <td>DepaulRobert</td>\n",
       "      <td>252824.0</td>\n",
       "      <td>4322289.0</td>\n",
       "      <td>2223.0</td>\n",
       "      <td>3124.0</td>\n",
       "    </tr>\n",
       "  </tbody>\n",
       "</table>\n",
       "</div>"
      ],
      "text/plain": [
       "     first_name last_name  person_id    phone_number  some_val_1 some_val_2  \\\n",
       "8514       Cody   Garrett       8514  +1-8-9735-4990        8515       ydoC   \n",
       "3955       Mary    Walker       3955  +1-7-9029-0281        3956       yraM   \n",
       "6040      Jason     Davis       6040  +1-9-0296-4471        6041      nosaJ   \n",
       "7201       Dawn    Snipes       7201  +1-9-9706-1702        7202       nwaD   \n",
       "9724     Robert    Depaul       9724  +1-7-6525-5854        9725     treboR   \n",
       "\n",
       "        some_val_3  some_val_4  some_val_5  change  score_rank  \n",
       "8514   GarrettCody    161766.0   1474841.0   295.0      3120.0  \n",
       "3955    WalkerMary     35595.0   1743371.0   911.0      3121.0  \n",
       "6040    DavisJason    169120.0   8778295.0  1544.0      3122.0  \n",
       "7201    SnipesDawn     86412.0   9490901.0  1756.0      3123.0  \n",
       "9724  DepaulRobert    252824.0   4322289.0  2223.0      3124.0  "
      ]
     },
     "execution_count": 23,
     "metadata": {},
     "output_type": "execute_result"
    }
   ],
   "source": [
    "df[(df.score_rank > 100) & (df.change > 0)].sort_values('score_rank').head()"
   ]
  }
 ],
 "metadata": {
  "colab": {
   "collapsed_sections": [],
   "name": "Pandas.ipynb",
   "provenance": [],
   "version": "0.3.2"
  },
  "kernelspec": {
   "display_name": "Python 3",
   "language": "python",
   "name": "python3"
  },
  "language_info": {
   "codemirror_mode": {
    "name": "ipython",
    "version": 3
   },
   "file_extension": ".py",
   "mimetype": "text/x-python",
   "name": "python",
   "nbconvert_exporter": "python",
   "pygments_lexer": "ipython3",
   "version": "3.6.8"
  }
 },
 "nbformat": 4,
 "nbformat_minor": 1
}
